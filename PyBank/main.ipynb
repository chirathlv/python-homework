{
 "cells": [
  {
   "cell_type": "code",
   "execution_count": 2,
   "metadata": {},
   "outputs": [],
   "source": [
    "\"\"\"\n",
    "This script will pass through a budget data CSV file and sum the total number of months\n",
    "and will calculate the total profit and losses over the years. \n",
    "Then it calculates profit changes in each month and will store in a dictionary. \n",
    "Then it gets the average changes based on that. Then further will calculate \n",
    "the greatest increase in profit and decrease in profit for the company\n",
    "\"\"\"\n",
    "\n",
    "# Importing packages\n",
    "import csv\n",
    "from pathlib import Path"
   ]
  },
  {
   "cell_type": "code",
   "execution_count": 3,
   "metadata": {},
   "outputs": [],
   "source": [
    "# Get the path of csv file\n",
    "file_name = Path('budget_data.csv')\n",
    "\n",
    "# output file name\n",
    "output_name = Path('financial_report.txt')"
   ]
  },
  {
   "cell_type": "code",
   "execution_count": 4,
   "metadata": {},
   "outputs": [],
   "source": [
    "# Initializing variables\n",
    "total_months = 0\n",
    "total_p_l = 0.0\n",
    "last_month_profit = 0.0\n",
    "this_month_profit = 0.0\n",
    "p_l_change = {}"
   ]
  },
  {
   "cell_type": "code",
   "execution_count": 11,
   "metadata": {},
   "outputs": [],
   "source": [
    "# Reading budget_data file\n",
    "with open(file_name, 'r', encoding='utf-8') as file:\n",
    "\n",
    "    # Read the CSV file\n",
    "    csv_reader = csv.reader(file, delimiter=\",\")\n",
    "    \n",
    "    # Skip the header of the dataset\n",
    "    csv_header = next(csv_reader)\n",
    "\n",
    "    # Loop through each line in the file\n",
    "    for line in csv_reader:\n",
    "\n",
    "        # Storing Dataset first two columns (Month and Profit/Losses) in two variables\n",
    "        month, p_l = line[0], float(line[1])\n",
    "\n",
    "        # Counting number of months in the dataset\n",
    "        total_months += 1\n",
    "\n",
    "        # Total number of Profit and Losses\n",
    "        total_p_l += p_l\n",
    "\n",
    "        # Tracking profit change in consecutive months and storing in a dict\n",
    "        last_month_profit = this_month_profit\n",
    "        this_month_profit = p_l\n",
    "        \n",
    "        p_l_change[month] = this_month_profit-last_month_profit # Profit change"
   ]
  },
  {
   "cell_type": "code",
   "execution_count": 12,
   "metadata": {},
   "outputs": [],
   "source": [
    "# Calculate average change (Skipping the first record since it's the first time made profit and not a change)\n",
    "average_p_l_change = round(sum(list(p_l_change.values())[1:]) / len(list(p_l_change.values())[1:]), 2)"
   ]
  },
  {
   "cell_type": "code",
   "execution_count": 13,
   "metadata": {},
   "outputs": [],
   "source": [
    "# Greatest Profit Increase and its month\n",
    "greatest_profit_increase = max(p_l_change.values())\n",
    "greatest_profit_increase_month = [month for month, change in p_l_change.items() if max(p_l_change.values()) == change][0]"
   ]
  },
  {
   "cell_type": "code",
   "execution_count": 14,
   "metadata": {},
   "outputs": [],
   "source": [
    "# Greatest Profit Decrease and its month.\n",
    "greatest_profit_decrease = min(p_l_change.values())\n",
    "greatest_profit_decrease_month = [month for month, change in p_l_change.items() if min(p_l_change.values()) == change][0]"
   ]
  },
  {
   "cell_type": "code",
   "execution_count": 15,
   "metadata": {},
   "outputs": [],
   "source": [
    "# Writing this changes to a file\n",
    "with open(output_name, \"w\", encoding=\"utf-8\") as file:\n",
    "    file.write(\"Financial Analysis\\n\")\n",
    "    file.write(\"----------------------------\\n\")\n",
    "    file.write(f\"Total Months: {total_months}\\n\")\n",
    "    file.write(f\"Total: {total_p_l}\\n\")\n",
    "    file.write(f\"Average Change: {average_p_l_change}\\n\")\n",
    "    file.write(f\"Greatest Increase in Profits: {greatest_profit_increase_month} ({greatest_profit_increase})\\n\")\n",
    "    file.write(f\"Greatest Increase in Profits: {greatest_profit_decrease_month} ({greatest_profit_decrease})\\n\")"
   ]
  },
  {
   "cell_type": "code",
   "execution_count": 16,
   "metadata": {},
   "outputs": [
    {
     "name": "stdout",
     "output_type": "stream",
     "text": [
      "Financial Analysis\n",
      "----------------------------\n",
      "Total Months: 172\n",
      "Total: $76765156.0\n",
      "Average Change: $-2315.12\n",
      "Greatest Increase in Profits: Feb-2012 ($1926159.0)\n",
      "Greatest Increase in Profits: Sep-2013 ($-2196167.0)\n"
     ]
    }
   ],
   "source": [
    "# Printing to the terminal\n",
    "print(\"Financial Analysis\")\n",
    "print(\"----------------------------\")\n",
    "print(f\"Total Months: {total_months}\")\n",
    "print(f\"Total: ${total_p_l}\")\n",
    "print(f\"Average Change: ${average_p_l_change}\")\n",
    "print(f\"Greatest Increase in Profits: {greatest_profit_increase_month} (${greatest_profit_increase})\")\n",
    "print(f\"Greatest Increase in Profits: {greatest_profit_decrease_month} (${greatest_profit_decrease})\")"
   ]
  },
  {
   "cell_type": "code",
   "execution_count": null,
   "metadata": {},
   "outputs": [],
   "source": []
  }
 ],
 "metadata": {
  "kernelspec": {
   "display_name": "Python 3",
   "language": "python",
   "name": "python3"
  },
  "language_info": {
   "codemirror_mode": {
    "name": "ipython",
    "version": 3
   },
   "file_extension": ".py",
   "mimetype": "text/x-python",
   "name": "python",
   "nbconvert_exporter": "python",
   "pygments_lexer": "ipython3",
   "version": "3.8.3"
  }
 },
 "nbformat": 4,
 "nbformat_minor": 4
}
